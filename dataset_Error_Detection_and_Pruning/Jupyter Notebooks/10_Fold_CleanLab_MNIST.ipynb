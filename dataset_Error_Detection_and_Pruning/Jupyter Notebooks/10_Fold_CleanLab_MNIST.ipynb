{
  "cells": [
    {
      "cell_type": "markdown",
      "metadata": {
        "id": "L-wSPjldPVRg"
      },
      "source": [
        "# Image Classification with PyTorch and Cleanlab\n"
      ]
    },
    {
      "cell_type": "markdown",
      "metadata": {
        "id": "wX891hpkPVRo"
      },
      "source": [
        "Thi notebook demonstrates how to find potential label errors in image classification data. Here we use the MNIST dataset containing 70,000 images of handwritten digits from 0 to 9.\n",
        "\n",
        "**Overview of what we'll do in this tutorial:**\n",
        "\n",
        "- Build a simple [PyTorch](https://pytorch.org/) neural net and wrap it with [skorch](https://skorch.readthedocs.io/) to make it scikit-learn compatible.\n",
        "\n",
        "- Use this model to compute out-of-sample predicted probabilities, `pred_probs`, via cross-validation.\n",
        "\n",
        "- Compute a list of potential label errors with cleanlab's `find_label_issues` method.\n"
      ]
    },
    {
      "cell_type": "markdown",
      "metadata": {
        "id": "8cXaeksePVRq"
      },
      "source": [
        "## 1. Install the required dependencies\n"
      ]
    },
    {
      "cell_type": "markdown",
      "metadata": {
        "id": "S0Zrszu8PVRr"
      },
      "source": [
        "You can use `pip` to install all packages required for this tutorial as follows:\n"
      ]
    },
    {
      "cell_type": "code",
      "source": [
        "!pip install matplotlib torch torchvision skorch\n",
        "!pip install cleanlab"
      ],
      "metadata": {
        "id": "N_uuWJ02PaXf"
      },
      "execution_count": null,
      "outputs": []
    },
    {
      "cell_type": "markdown",
      "source": [
        "Check to see if required dependencies are installed"
      ],
      "metadata": {
        "id": "RXcN0m93k8T1"
      }
    },
    {
      "cell_type": "code",
      "execution_count": null,
      "metadata": {
        "execution": {
          "iopub.execute_input": "2022-04-20T20:25:18.004029Z",
          "iopub.status.busy": "2022-04-20T20:25:18.003552Z",
          "iopub.status.idle": "2022-04-20T20:25:19.346298Z",
          "shell.execute_reply": "2022-04-20T20:25:19.345672Z"
        },
        "nbsphinx": "hidden",
        "id": "5W7wi159PVRs"
      },
      "outputs": [],
      "source": [
        "# Package installation.\n",
        "# If running on Colab, may want to use GPU (select: Runtime > Change runtime type > Hardware accelerator > GPU)\n",
        "\n",
        "dependencies = [\"cleanlab\", \"matplotlib\", \"torch\", \"torchvision\", \"skorch\"]\n",
        "\n",
        "if \"google.colab\" in str(get_ipython()):  # Check if it's running in Google Colab\n",
        "    %pip install cleanlab==v2.0.0\n",
        "    cmd = ' '.join([dep for dep in dependencies if dep != \"cleanlab\"])\n",
        "    %pip install $cmd\n",
        "else:\n",
        "    missing_dependencies = []\n",
        "    for dependency in dependencies:\n",
        "        try:\n",
        "            __import__(dependency)\n",
        "        except ImportError:\n",
        "            missing_dependencies.append(dependency)\n",
        "\n",
        "    if len(missing_dependencies) > 0:\n",
        "        print(\"Missing required dependencies:\")\n",
        "        print(*missing_dependencies, sep=\", \")\n",
        "        print(\"\\nPlease install them before running the rest of this notebook.\")"
      ]
    },
    {
      "cell_type": "markdown",
      "metadata": {
        "id": "-WhzdHEIPVRv"
      },
      "source": [
        "We set a seed for reproducibility."
      ]
    },
    {
      "cell_type": "code",
      "execution_count": null,
      "metadata": {
        "execution": {
          "iopub.execute_input": "2022-04-20T20:25:19.349941Z",
          "iopub.status.busy": "2022-04-20T20:25:19.349602Z",
          "iopub.status.idle": "2022-04-20T20:25:19.355761Z",
          "shell.execute_reply": "2022-04-20T20:25:19.355246Z"
        },
        "id": "B1ulmmfqPVRw"
      },
      "outputs": [],
      "source": [
        "import numpy as np\n",
        "import torch\n",
        "import warnings\n",
        "\n",
        "SEED = 321 #any constant value\n",
        "np.random.seed(SEED)  #using the same seed for numpy and torch\n",
        "torch.manual_seed(SEED)\n",
        "torch.backends.cudnn.deterministic = True\n",
        "torch.backends.cudnn.benchmark = False\n",
        "torch.cuda.manual_seed_all(SEED)\n",
        "warnings.filterwarnings(\"ignore\", \"Lazy modules are a new feature.*\") #ignore warning related to lazy modules"
      ]
    },
    {
      "cell_type": "markdown",
      "metadata": {
        "id": "t2-LuPowPVRy"
      },
      "source": [
        "## 2. Fetch and scale the MNIST dataset\n"
      ]
    },
    {
      "cell_type": "code",
      "execution_count": null,
      "metadata": {
        "execution": {
          "iopub.execute_input": "2022-04-20T20:25:19.358725Z",
          "iopub.status.busy": "2022-04-20T20:25:19.358368Z",
          "iopub.status.idle": "2022-04-20T20:26:21.329649Z",
          "shell.execute_reply": "2022-04-20T20:26:21.328992Z"
        },
        "id": "O0lhjKxVPVRz",
        "outputId": "76458d39-fc32-4004-d5e3-9a640d6686e1",
        "colab": {
          "base_uri": "https://localhost:8080/"
        }
      },
      "outputs": [
        {
          "output_type": "stream",
          "name": "stderr",
          "text": [
            "/usr/local/lib/python3.10/dist-packages/sklearn/datasets/_openml.py:968: FutureWarning: The default value of `parser` will change from `'liac-arff'` to `'auto'` in 1.4. You can set `parser='auto'` to silence this warning. Therefore, an `ImportError` will be raised from 1.4 if the dataset is dense and pandas is not installed. Note that the pandas parser may return different data types. See the Notes Section in fetch_openml's API doc for details.\n",
            "  warn(\n"
          ]
        }
      ],
      "source": [
        "from sklearn.datasets import fetch_openml\n",
        "\n",
        "mnist = fetch_openml(\"mnist_784\")  # Fetch the MNIST dataset\n",
        "\n",
        "X = mnist.data.astype(\"float32\").to_numpy() # 2D array (images are flattened into 1D)\n",
        "X /= 255.0  # Scale the features to the [0, 1] range\n",
        "\n",
        "X = X.reshape(len(X), 1, 28, 28)  # reshape into [N, C, H, W] for PyTorch\n",
        "\n",
        "\n",
        "y = mnist.target.astype(\"int64\").to_numpy()  # 1D array of labels"
      ]
    },
    {
      "cell_type": "markdown",
      "metadata": {
        "id": "IVLX3_3PPVR0"
      },
      "source": [
        "<div class=\"alert alert-info\">If using different data:\n",
        "\n",
        "Assign your data's features to variable `X` and its labels to variable `y` instead.\n",
        "\n",
        "Your classes (and entries of `y`) should be represented as integer indices 0, 1, ..., num_classes - 1.\n",
        "\n",
        "</div>\n"
      ]
    },
    {
      "cell_type": "markdown",
      "metadata": {
        "id": "j6zb0XizPVR1"
      },
      "source": [
        "## 3. Define a classification model\n"
      ]
    },
    {
      "cell_type": "markdown",
      "metadata": {
        "id": "Zc8kOmxhPVR2"
      },
      "source": [
        "Here, we define a simple neural network with PyTorch.\n"
      ]
    },
    {
      "cell_type": "code",
      "execution_count": null,
      "metadata": {
        "execution": {
          "iopub.execute_input": "2022-04-20T20:26:21.333080Z",
          "iopub.status.busy": "2022-04-20T20:26:21.332744Z",
          "iopub.status.idle": "2022-04-20T20:26:21.338474Z",
          "shell.execute_reply": "2022-04-20T20:26:21.338066Z"
        },
        "id": "334dW5s7PVR2"
      },
      "outputs": [],
      "source": [
        "from torch import nn\n",
        "\n",
        "class ClassifierModule(nn.Module):\n",
        "    def __init__(self):\n",
        "        super().__init__()\n",
        "\n",
        "        self.cnn = nn.Sequential(\n",
        "            nn.Conv2d(1, 6, 3),\n",
        "            nn.ReLU(),\n",
        "            nn.BatchNorm2d(6),\n",
        "            nn.MaxPool2d(kernel_size=2, stride=2),\n",
        "            nn.Conv2d(6, 16, 3),\n",
        "            nn.ReLU(),\n",
        "            nn.BatchNorm2d(16),\n",
        "            nn.MaxPool2d(kernel_size=2, stride=2),\n",
        "        )\n",
        "        self.out = nn.Sequential(\n",
        "            nn.Flatten(),\n",
        "            nn.LazyLinear(128),\n",
        "            nn.ReLU(),\n",
        "            nn.Linear(128, 10),\n",
        "            nn.Softmax(dim=-1),\n",
        "        )\n",
        "\n",
        "    def forward(self, X):\n",
        "        X = self.cnn(X)\n",
        "        X = self.out(X)\n",
        "        return X"
      ]
    },
    {
      "cell_type": "markdown",
      "metadata": {
        "id": "KuYU7Iv5PVR3"
      },
      "source": [
        "## 4. Ensure your classifier is scikit-learn compatible\n"
      ]
    },
    {
      "cell_type": "markdown",
      "metadata": {
        "id": "2nFkv_r7PVR3"
      },
      "source": [
        "As some cleanlab features require scikit-learn compatibility, we adapt the above PyTorch neural net accordingly. [skorch](https://skorch.readthedocs.io) is a convenient package that helps with this. Alternatively, you can also easily wrap an arbitrary model to be scikit-learn compatible as demonstrated [here](https://github.com/cleanlab/cleanlab#use-cleanlab-with-any-model-tensorflow-pytorch-sklearn-xgboost-etc)."
      ]
    },
    {
      "cell_type": "code",
      "execution_count": null,
      "metadata": {
        "execution": {
          "iopub.execute_input": "2022-04-20T20:26:21.341204Z",
          "iopub.status.busy": "2022-04-20T20:26:21.340831Z",
          "iopub.status.idle": "2022-04-20T20:26:21.343853Z",
          "shell.execute_reply": "2022-04-20T20:26:21.343297Z"
        },
        "id": "vys8nuNgPVR4"
      },
      "outputs": [],
      "source": [
        "from skorch import NeuralNetClassifier\n",
        "\n",
        "model_skorch = NeuralNetClassifier(ClassifierModule)"
      ]
    },
    {
      "cell_type": "markdown",
      "metadata": {
        "id": "_YJ_TeqFPVR4"
      },
      "source": [
        "## 5. Compute out-of-sample predicted probabilities\n"
      ]
    },
    {
      "cell_type": "markdown",
      "metadata": {
        "id": "0U2pt1VlPVR5"
      },
      "source": [
        "If we'd like cleanlab to identify potential label errors in the whole dataset and not just the training set, we can consider using the entire dataset when computing the out-of-sample predicted probabilities, `pred_probs`, via cross-validation.\n"
      ]
    },
    {
      "cell_type": "code",
      "execution_count": null,
      "metadata": {
        "execution": {
          "iopub.execute_input": "2022-04-20T20:26:21.346948Z",
          "iopub.status.busy": "2022-04-20T20:26:21.346579Z",
          "iopub.status.idle": "2022-04-20T20:28:17.784733Z",
          "shell.execute_reply": "2022-04-20T20:28:17.784135Z"
        },
        "id": "3oqKSlEYPVR5",
        "outputId": "4ee34350-7eac-4d1d-a98d-b1694c36e706",
        "colab": {
          "base_uri": "https://localhost:8080/"
        }
      },
      "outputs": [
        {
          "output_type": "stream",
          "name": "stdout",
          "text": [
            "  epoch    train_loss    valid_acc    valid_loss      dur\n",
            "-------  ------------  -----------  ------------  -------\n",
            "      1        \u001b[36m0.6467\u001b[0m       \u001b[32m0.9247\u001b[0m        \u001b[35m0.2624\u001b[0m  10.1605\n",
            "      2        \u001b[36m0.1843\u001b[0m       \u001b[32m0.9495\u001b[0m        \u001b[35m0.1711\u001b[0m  10.0026\n",
            "      3        \u001b[36m0.1328\u001b[0m       \u001b[32m0.9602\u001b[0m        \u001b[35m0.1365\u001b[0m  9.3360\n",
            "      4        \u001b[36m0.1083\u001b[0m       \u001b[32m0.9658\u001b[0m        \u001b[35m0.1169\u001b[0m  9.8849\n",
            "      5        \u001b[36m0.0933\u001b[0m       \u001b[32m0.9698\u001b[0m        \u001b[35m0.1041\u001b[0m  9.7717\n",
            "      6        \u001b[36m0.0830\u001b[0m       \u001b[32m0.9725\u001b[0m        \u001b[35m0.0952\u001b[0m  9.7458\n",
            "      7        \u001b[36m0.0752\u001b[0m       \u001b[32m0.9737\u001b[0m        \u001b[35m0.0884\u001b[0m  11.9185\n",
            "      8        \u001b[36m0.0690\u001b[0m       \u001b[32m0.9750\u001b[0m        \u001b[35m0.0831\u001b[0m  9.6186\n",
            "      9        \u001b[36m0.0640\u001b[0m       \u001b[32m0.9759\u001b[0m        \u001b[35m0.0790\u001b[0m  9.2910\n",
            "     10        \u001b[36m0.0598\u001b[0m       \u001b[32m0.9776\u001b[0m        \u001b[35m0.0755\u001b[0m  9.9436\n",
            "  epoch    train_loss    valid_acc    valid_loss     dur\n",
            "-------  ------------  -----------  ------------  ------\n",
            "      1        \u001b[36m0.5974\u001b[0m       \u001b[32m0.9387\u001b[0m        \u001b[35m0.2234\u001b[0m  9.9654\n",
            "      2        \u001b[36m0.1774\u001b[0m       \u001b[32m0.9580\u001b[0m        \u001b[35m0.1462\u001b[0m  9.9837\n",
            "      3        \u001b[36m0.1277\u001b[0m       \u001b[32m0.9637\u001b[0m        \u001b[35m0.1221\u001b[0m  10.2300\n",
            "      4        \u001b[36m0.1046\u001b[0m       \u001b[32m0.9666\u001b[0m        \u001b[35m0.1107\u001b[0m  9.7622\n",
            "      5        \u001b[36m0.0907\u001b[0m       \u001b[32m0.9704\u001b[0m        \u001b[35m0.0961\u001b[0m  10.4878\n",
            "      6        \u001b[36m0.0808\u001b[0m       \u001b[32m0.9727\u001b[0m        \u001b[35m0.0887\u001b[0m  10.7826\n",
            "      7        \u001b[36m0.0734\u001b[0m       \u001b[32m0.9746\u001b[0m        \u001b[35m0.0824\u001b[0m  11.0543\n",
            "      8        \u001b[36m0.0676\u001b[0m       \u001b[32m0.9767\u001b[0m        \u001b[35m0.0783\u001b[0m  10.3376\n",
            "      9        \u001b[36m0.0627\u001b[0m       \u001b[32m0.9770\u001b[0m        \u001b[35m0.0772\u001b[0m  10.4686\n",
            "     10        \u001b[36m0.0587\u001b[0m       \u001b[32m0.9783\u001b[0m        \u001b[35m0.0732\u001b[0m  10.6036\n",
            "  epoch    train_loss    valid_acc    valid_loss      dur\n",
            "-------  ------------  -----------  ------------  -------\n",
            "      1        \u001b[36m0.6287\u001b[0m       \u001b[32m0.9440\u001b[0m        \u001b[35m0.2121\u001b[0m  10.2827\n",
            "      2        \u001b[36m0.1569\u001b[0m       \u001b[32m0.9604\u001b[0m        \u001b[35m0.1401\u001b[0m  9.7179\n",
            "      3        \u001b[36m0.1144\u001b[0m       \u001b[32m0.9662\u001b[0m        \u001b[35m0.1148\u001b[0m  10.1525\n",
            "      4        \u001b[36m0.0944\u001b[0m       \u001b[32m0.9700\u001b[0m        \u001b[35m0.1011\u001b[0m  10.0518\n",
            "      5        \u001b[36m0.0818\u001b[0m       \u001b[32m0.9721\u001b[0m        \u001b[35m0.0919\u001b[0m  10.0553\n",
            "      6        \u001b[36m0.0728\u001b[0m       \u001b[32m0.9738\u001b[0m        \u001b[35m0.0852\u001b[0m  9.9707\n",
            "      7        \u001b[36m0.0661\u001b[0m       \u001b[32m0.9752\u001b[0m        \u001b[35m0.0803\u001b[0m  9.4370\n",
            "      8        \u001b[36m0.0609\u001b[0m       \u001b[32m0.9765\u001b[0m        \u001b[35m0.0764\u001b[0m  9.7586\n",
            "      9        \u001b[36m0.0566\u001b[0m       \u001b[32m0.9781\u001b[0m        \u001b[35m0.0731\u001b[0m  9.8755\n",
            "     10        \u001b[36m0.0530\u001b[0m       \u001b[32m0.9784\u001b[0m        \u001b[35m0.0705\u001b[0m  9.7587\n",
            "  epoch    train_loss    valid_acc    valid_loss     dur\n",
            "-------  ------------  -----------  ------------  ------\n",
            "      1        \u001b[36m0.6251\u001b[0m       \u001b[32m0.9363\u001b[0m        \u001b[35m0.2377\u001b[0m  9.7573\n",
            "      2        \u001b[36m0.1790\u001b[0m       \u001b[32m0.9526\u001b[0m        \u001b[35m0.1576\u001b[0m  9.3219\n",
            "      3        \u001b[36m0.1305\u001b[0m       \u001b[32m0.9622\u001b[0m        \u001b[35m0.1289\u001b[0m  9.5240\n",
            "      4        \u001b[36m0.1071\u001b[0m       \u001b[32m0.9680\u001b[0m        \u001b[35m0.1126\u001b[0m  9.9978\n",
            "      5        \u001b[36m0.0926\u001b[0m       \u001b[32m0.9706\u001b[0m        \u001b[35m0.1028\u001b[0m  10.0302\n",
            "      6        \u001b[36m0.0826\u001b[0m       \u001b[32m0.9724\u001b[0m        \u001b[35m0.0953\u001b[0m  9.9549\n",
            "      7        \u001b[36m0.0751\u001b[0m       \u001b[32m0.9744\u001b[0m        \u001b[35m0.0894\u001b[0m  9.5961\n",
            "      8        \u001b[36m0.0691\u001b[0m       \u001b[32m0.9755\u001b[0m        \u001b[35m0.0851\u001b[0m  9.8332\n",
            "      9        \u001b[36m0.0642\u001b[0m       \u001b[32m0.9758\u001b[0m        \u001b[35m0.0817\u001b[0m  10.1883\n",
            "     10        \u001b[36m0.0600\u001b[0m       \u001b[32m0.9763\u001b[0m        \u001b[35m0.0787\u001b[0m  10.1459\n",
            "  epoch    train_loss    valid_acc    valid_loss      dur\n",
            "-------  ------------  -----------  ------------  -------\n",
            "      1        \u001b[36m0.5990\u001b[0m       \u001b[32m0.9426\u001b[0m        \u001b[35m0.2171\u001b[0m  10.2559\n",
            "      2        \u001b[36m0.1569\u001b[0m       \u001b[32m0.9593\u001b[0m        \u001b[35m0.1424\u001b[0m  10.1780\n",
            "      3        \u001b[36m0.1126\u001b[0m       \u001b[32m0.9675\u001b[0m        \u001b[35m0.1143\u001b[0m  9.7081\n",
            "      4        \u001b[36m0.0919\u001b[0m       \u001b[32m0.9717\u001b[0m        \u001b[35m0.0993\u001b[0m  9.7335\n",
            "      5        \u001b[36m0.0795\u001b[0m       \u001b[32m0.9740\u001b[0m        \u001b[35m0.0902\u001b[0m  10.1477\n",
            "      6        \u001b[36m0.0710\u001b[0m       \u001b[32m0.9753\u001b[0m        \u001b[35m0.0840\u001b[0m  10.1981\n",
            "      7        \u001b[36m0.0647\u001b[0m       \u001b[32m0.9771\u001b[0m        \u001b[35m0.0792\u001b[0m  10.0619\n",
            "      8        \u001b[36m0.0597\u001b[0m       \u001b[32m0.9789\u001b[0m        \u001b[35m0.0756\u001b[0m  10.2028\n",
            "      9        \u001b[36m0.0557\u001b[0m       \u001b[32m0.9799\u001b[0m        \u001b[35m0.0726\u001b[0m  9.7807\n",
            "     10        \u001b[36m0.0523\u001b[0m       \u001b[32m0.9804\u001b[0m        \u001b[35m0.0702\u001b[0m  10.0181\n",
            "  epoch    train_loss    valid_acc    valid_loss      dur\n",
            "-------  ------------  -----------  ------------  -------\n",
            "      1        \u001b[36m0.6511\u001b[0m       \u001b[32m0.9420\u001b[0m        \u001b[35m0.2248\u001b[0m  10.2445\n",
            "      2        \u001b[36m0.1669\u001b[0m       \u001b[32m0.9604\u001b[0m        \u001b[35m0.1432\u001b[0m  10.1915\n",
            "      3        \u001b[36m0.1179\u001b[0m       \u001b[32m0.9682\u001b[0m        \u001b[35m0.1136\u001b[0m  10.2586\n",
            "      4        \u001b[36m0.0954\u001b[0m       \u001b[32m0.9723\u001b[0m        \u001b[35m0.0970\u001b[0m  10.2360\n",
            "      5        \u001b[36m0.0816\u001b[0m       \u001b[32m0.9748\u001b[0m        \u001b[35m0.0860\u001b[0m  9.7515\n",
            "      6        \u001b[36m0.0721\u001b[0m       \u001b[32m0.9776\u001b[0m        \u001b[35m0.0782\u001b[0m  9.9832\n",
            "      7        \u001b[36m0.0651\u001b[0m       \u001b[32m0.9785\u001b[0m        \u001b[35m0.0726\u001b[0m  10.1716\n",
            "      8        \u001b[36m0.0596\u001b[0m       \u001b[32m0.9802\u001b[0m        \u001b[35m0.0685\u001b[0m  10.1850\n",
            "      9        \u001b[36m0.0551\u001b[0m       \u001b[32m0.9808\u001b[0m        \u001b[35m0.0653\u001b[0m  10.0287\n",
            "     10        \u001b[36m0.0515\u001b[0m       \u001b[32m0.9817\u001b[0m        \u001b[35m0.0627\u001b[0m  10.0983\n",
            "  epoch    train_loss    valid_acc    valid_loss     dur\n",
            "-------  ------------  -----------  ------------  ------\n",
            "      1        \u001b[36m0.6005\u001b[0m       \u001b[32m0.9400\u001b[0m        \u001b[35m0.2293\u001b[0m  9.5721\n",
            "      2        \u001b[36m0.1640\u001b[0m       \u001b[32m0.9568\u001b[0m        \u001b[35m0.1499\u001b[0m  9.6435\n",
            "      3        \u001b[36m0.1163\u001b[0m       \u001b[32m0.9658\u001b[0m        \u001b[35m0.1197\u001b[0m  10.1556\n",
            "      4        \u001b[36m0.0946\u001b[0m       \u001b[32m0.9695\u001b[0m        \u001b[35m0.1032\u001b[0m  10.1238\n",
            "      5        \u001b[36m0.0814\u001b[0m       \u001b[32m0.9732\u001b[0m        \u001b[35m0.0925\u001b[0m  10.0352\n",
            "      6        \u001b[36m0.0723\u001b[0m       \u001b[32m0.9752\u001b[0m        \u001b[35m0.0851\u001b[0m  10.1824\n",
            "      7        \u001b[36m0.0655\u001b[0m       \u001b[32m0.9765\u001b[0m        \u001b[35m0.0801\u001b[0m  9.2425\n",
            "      8        \u001b[36m0.0601\u001b[0m       \u001b[32m0.9781\u001b[0m        \u001b[35m0.0758\u001b[0m  10.0995\n",
            "      9        \u001b[36m0.0558\u001b[0m       \u001b[32m0.9789\u001b[0m        \u001b[35m0.0724\u001b[0m  10.0110\n",
            "     10        \u001b[36m0.0523\u001b[0m       \u001b[32m0.9801\u001b[0m        \u001b[35m0.0694\u001b[0m  9.9347\n",
            "  epoch    train_loss    valid_acc    valid_loss      dur\n",
            "-------  ------------  -----------  ------------  -------\n",
            "      1        \u001b[36m0.6483\u001b[0m       \u001b[32m0.9321\u001b[0m        \u001b[35m0.2600\u001b[0m  10.0337\n",
            "      2        \u001b[36m0.1890\u001b[0m       \u001b[32m0.9540\u001b[0m        \u001b[35m0.1673\u001b[0m  9.7729\n",
            "      3        \u001b[36m0.1306\u001b[0m       \u001b[32m0.9628\u001b[0m        \u001b[35m0.1313\u001b[0m  9.9626\n",
            "      4        \u001b[36m0.1036\u001b[0m       \u001b[32m0.9671\u001b[0m        \u001b[35m0.1134\u001b[0m  10.4334\n",
            "      5        \u001b[36m0.0880\u001b[0m       \u001b[32m0.9696\u001b[0m        \u001b[35m0.1032\u001b[0m  10.3424\n",
            "      6        \u001b[36m0.0779\u001b[0m       \u001b[32m0.9722\u001b[0m        \u001b[35m0.0954\u001b[0m  10.2990\n",
            "      7        \u001b[36m0.0705\u001b[0m       \u001b[32m0.9734\u001b[0m        \u001b[35m0.0889\u001b[0m  10.2212\n",
            "      8        \u001b[36m0.0648\u001b[0m       \u001b[32m0.9748\u001b[0m        \u001b[35m0.0835\u001b[0m  9.7707\n",
            "      9        \u001b[36m0.0603\u001b[0m       \u001b[32m0.9762\u001b[0m        \u001b[35m0.0795\u001b[0m  9.7702\n",
            "     10        \u001b[36m0.0566\u001b[0m       \u001b[32m0.9777\u001b[0m        \u001b[35m0.0764\u001b[0m  10.0642\n",
            "  epoch    train_loss    valid_acc    valid_loss      dur\n",
            "-------  ------------  -----------  ------------  -------\n",
            "      1        \u001b[36m0.6511\u001b[0m       \u001b[32m0.9430\u001b[0m        \u001b[35m0.2254\u001b[0m  10.3089\n",
            "      2        \u001b[36m0.1650\u001b[0m       \u001b[32m0.9600\u001b[0m        \u001b[35m0.1424\u001b[0m  10.3286\n",
            "      3        \u001b[36m0.1152\u001b[0m       \u001b[32m0.9679\u001b[0m        \u001b[35m0.1133\u001b[0m  10.1399\n",
            "      4        \u001b[36m0.0925\u001b[0m       \u001b[32m0.9715\u001b[0m        \u001b[35m0.0974\u001b[0m  9.9412\n",
            "      5        \u001b[36m0.0787\u001b[0m       \u001b[32m0.9739\u001b[0m        \u001b[35m0.0868\u001b[0m  9.6694\n",
            "      6        \u001b[36m0.0693\u001b[0m       \u001b[32m0.9752\u001b[0m        \u001b[35m0.0797\u001b[0m  9.9898\n",
            "      7        \u001b[36m0.0624\u001b[0m       \u001b[32m0.9767\u001b[0m        \u001b[35m0.0747\u001b[0m  10.0526\n",
            "      8        \u001b[36m0.0570\u001b[0m       \u001b[32m0.9783\u001b[0m        \u001b[35m0.0707\u001b[0m  10.0501\n",
            "      9        \u001b[36m0.0527\u001b[0m       \u001b[32m0.9788\u001b[0m        \u001b[35m0.0674\u001b[0m  10.1092\n",
            "     10        \u001b[36m0.0492\u001b[0m       \u001b[32m0.9795\u001b[0m        \u001b[35m0.0650\u001b[0m  9.3994\n",
            "  epoch    train_loss    valid_acc    valid_loss      dur\n",
            "-------  ------------  -----------  ------------  -------\n",
            "      1        \u001b[36m0.6052\u001b[0m       \u001b[32m0.9405\u001b[0m        \u001b[35m0.2280\u001b[0m  10.0414\n",
            "      2        \u001b[36m0.1793\u001b[0m       \u001b[32m0.9565\u001b[0m        \u001b[35m0.1593\u001b[0m  10.1550\n",
            "      3        \u001b[36m0.1326\u001b[0m       \u001b[32m0.9627\u001b[0m        \u001b[35m0.1312\u001b[0m  10.0526\n",
            "      4        \u001b[36m0.1097\u001b[0m       \u001b[32m0.9667\u001b[0m        \u001b[35m0.1151\u001b[0m  10.0899\n",
            "      5        \u001b[36m0.0953\u001b[0m       \u001b[32m0.9695\u001b[0m        \u001b[35m0.1040\u001b[0m  10.0999\n",
            "      6        \u001b[36m0.0851\u001b[0m       \u001b[32m0.9727\u001b[0m        \u001b[35m0.0962\u001b[0m  9.4544\n",
            "      7        \u001b[36m0.0774\u001b[0m       \u001b[32m0.9742\u001b[0m        \u001b[35m0.0902\u001b[0m  10.0082\n",
            "      8        \u001b[36m0.0711\u001b[0m       \u001b[32m0.9760\u001b[0m        \u001b[35m0.0852\u001b[0m  9.9484\n",
            "      9        \u001b[36m0.0659\u001b[0m       \u001b[32m0.9767\u001b[0m        \u001b[35m0.0812\u001b[0m  9.8265\n",
            "     10        \u001b[36m0.0616\u001b[0m       \u001b[32m0.9773\u001b[0m        \u001b[35m0.0782\u001b[0m  9.8158\n"
          ]
        }
      ],
      "source": [
        "from sklearn.model_selection import cross_val_predict\n",
        "\n",
        "num_crossval_folds = 10  # for efficiency; values like 5 or 10 will generally work better\n",
        "pred_probs = cross_val_predict(\n",
        "    model_skorch,\n",
        "    X,\n",
        "    y,\n",
        "    cv=num_crossval_folds,\n",
        "    method=\"predict_proba\",\n",
        ")"
      ]
    },
    {
      "cell_type": "markdown",
      "metadata": {
        "id": "tnMEeF0PPVR7"
      },
      "source": [
        "An additional benefit of cross-validation is that it facilitates more reliable evaluation of our model than a single training/validation split."
      ]
    },
    {
      "cell_type": "code",
      "execution_count": null,
      "metadata": {
        "execution": {
          "iopub.execute_input": "2022-04-20T20:28:17.788404Z",
          "iopub.status.busy": "2022-04-20T20:28:17.788062Z",
          "iopub.status.idle": "2022-04-20T20:28:17.798942Z",
          "shell.execute_reply": "2022-04-20T20:28:17.798502Z"
        },
        "id": "THkKRRgaPVR7",
        "outputId": "de6c933a-df3a-49d4-d91d-a76e94bbb20c",
        "colab": {
          "base_uri": "https://localhost:8080/"
        }
      },
      "outputs": [
        {
          "output_type": "stream",
          "name": "stdout",
          "text": [
            "Cross-validated estimate of accuracy on held-out data: 0.9791428571428571\n"
          ]
        }
      ],
      "source": [
        "from sklearn.metrics import accuracy_score\n",
        "\n",
        "predicted_labels = pred_probs.argmax(axis=1)\n",
        "acc = accuracy_score(y, predicted_labels)\n",
        "print(f\"Cross-validated estimate of accuracy on held-out data: {acc}\")"
      ]
    },
    {
      "cell_type": "code",
      "source": [
        "import cleanlab"
      ],
      "metadata": {
        "id": "nGpSEg4hE1Ot"
      },
      "execution_count": null,
      "outputs": []
    },
    {
      "cell_type": "markdown",
      "source": [
        "Display predicted probabilities"
      ],
      "metadata": {
        "id": "BiEvZdsOlB02"
      }
    },
    {
      "cell_type": "code",
      "source": [
        "cleanlab.count.estimate_joint(y, pred_probs)"
      ],
      "metadata": {
        "colab": {
          "base_uri": "https://localhost:8080/"
        },
        "id": "z0JHAERH43cW",
        "outputId": "ce7b1e35-3f25-4610-9ae0-9f72661efbbe"
      },
      "execution_count": null,
      "outputs": [
        {
          "output_type": "execute_result",
          "data": {
            "text/plain": [
              "array([[9.86142857e-02, 0.00000000e+00, 0.00000000e+00, 0.00000000e+00,\n",
              "        0.00000000e+00, 0.00000000e+00, 0.00000000e+00, 0.00000000e+00,\n",
              "        0.00000000e+00, 0.00000000e+00],\n",
              "       [0.00000000e+00, 1.12485714e-01, 4.28571429e-05, 0.00000000e+00,\n",
              "        0.00000000e+00, 0.00000000e+00, 0.00000000e+00, 0.00000000e+00,\n",
              "        0.00000000e+00, 0.00000000e+00],\n",
              "       [0.00000000e+00, 4.28571429e-05, 9.97000000e-02, 0.00000000e+00,\n",
              "        5.71428571e-05, 0.00000000e+00, 0.00000000e+00, 2.85714286e-05,\n",
              "        1.42857143e-05, 1.42857143e-05],\n",
              "       [0.00000000e+00, 0.00000000e+00, 5.71428571e-05, 1.01742857e-01,\n",
              "        0.00000000e+00, 2.85714286e-05, 0.00000000e+00, 7.14285714e-05,\n",
              "        2.85714286e-05, 8.57142857e-05],\n",
              "       [0.00000000e+00, 0.00000000e+00, 1.42857143e-05, 0.00000000e+00,\n",
              "        9.73714286e-02, 0.00000000e+00, 0.00000000e+00, 1.42857143e-05,\n",
              "        1.42857143e-05, 7.14285714e-05],\n",
              "       [1.42857143e-05, 0.00000000e+00, 1.42857143e-05, 5.71428571e-05,\n",
              "        0.00000000e+00, 9.00714286e-02, 2.85714286e-05, 0.00000000e+00,\n",
              "        0.00000000e+00, 0.00000000e+00],\n",
              "       [1.42857143e-05, 0.00000000e+00, 0.00000000e+00, 0.00000000e+00,\n",
              "        2.85714286e-05, 5.71428571e-05, 9.81285714e-02, 0.00000000e+00,\n",
              "        0.00000000e+00, 0.00000000e+00],\n",
              "       [0.00000000e+00, 2.85714286e-05, 1.00000000e-04, 0.00000000e+00,\n",
              "        4.28571429e-05, 0.00000000e+00, 0.00000000e+00, 1.03942857e-01,\n",
              "        1.42857143e-05, 5.71428571e-05],\n",
              "       [2.85714286e-05, 0.00000000e+00, 5.71428571e-05, 0.00000000e+00,\n",
              "        1.42857143e-05, 1.42857143e-05, 0.00000000e+00, 0.00000000e+00,\n",
              "        9.73571429e-02, 2.85714286e-05],\n",
              "       [4.28571429e-05, 0.00000000e+00, 0.00000000e+00, 0.00000000e+00,\n",
              "        4.28571429e-05, 5.71428571e-05, 0.00000000e+00, 5.71428571e-05,\n",
              "        1.42857143e-05, 9.91857143e-02]])"
            ]
          },
          "metadata": {},
          "execution_count": 11
        }
      ]
    },
    {
      "cell_type": "code",
      "source": [
        "cleanlab.count.compute_confident_joint(y, pred_probs)"
      ],
      "metadata": {
        "colab": {
          "base_uri": "https://localhost:8080/"
        },
        "id": "i_yp0_4p14Q4",
        "outputId": "53f5223b-7cba-4759-ca6f-b108cb1cd66f"
      },
      "execution_count": null,
      "outputs": [
        {
          "output_type": "execute_result",
          "data": {
            "text/plain": [
              "array([[6903,    0,    0,    0,    0,    0,    0,    0,    0,    0],\n",
              "       [   0, 7874,    3,    0,    0,    0,    0,    0,    0,    0],\n",
              "       [   0,    3, 6979,    0,    4,    0,    0,    2,    1,    1],\n",
              "       [   0,    0,    4, 7122,    0,    2,    0,    5,    2,    6],\n",
              "       [   0,    0,    1,    0, 6816,    0,    0,    1,    1,    5],\n",
              "       [   1,    0,    1,    4,    0, 6305,    2,    0,    0,    0],\n",
              "       [   1,    0,    0,    0,    2,    4, 6869,    0,    0,    0],\n",
              "       [   0,    2,    7,    0,    3,    0,    0, 7276,    1,    4],\n",
              "       [   2,    0,    4,    0,    1,    1,    0,    0, 6815,    2],\n",
              "       [   3,    0,    0,    0,    3,    4,    0,    4,    1, 6943]])"
            ]
          },
          "metadata": {},
          "execution_count": 12
        }
      ]
    },
    {
      "cell_type": "code",
      "source": [
        "\n",
        "\n",
        "(\n",
        "    py, noise_matrix, inverse_noise_matrix, confident_joint\n",
        ") = cleanlab.count.estimate_py_and_noise_matrices_from_probabilities(y, pred_probs)\n",
        "\n",
        "\n",
        "# Get the joint distribution of noisy and true labels from the confident joint\n",
        "# This is the most powerful statistic in machine learning with noisy labels.\n",
        "joint = cleanlab.count.estimate_joint(\n",
        "    y, pred_probs, confident_joint=confident_joint\n",
        ")\n",
        "\n",
        "# Pretty print the joint distribution and noise matrix\n",
        "cleanlab.internal.util.print_joint_matrix(joint)\n",
        "cleanlab.internal.util.print_noise_matrix(noise_matrix)"
      ],
      "metadata": {
        "colab": {
          "base_uri": "https://localhost:8080/"
        },
        "id": "MdNii6rMmhij",
        "outputId": "9a300788-81f6-4699-d327-7563b2483be9"
      },
      "execution_count": null,
      "outputs": [
        {
          "output_type": "stream",
          "name": "stdout",
          "text": [
            "\n",
            " Joint Label Noise Distribution Matrix P(given_label, true_label) of shape (10, 10)\n",
            " p(s,y)\ty=0\ty=1\ty=2\ty=3\ty=4\ty=5\ty=6\ty=7\ty=8\ty=9\n",
            "\t---\t---\t---\t---\t---\t---\t---\t---\t---\t---\n",
            "s=0 |\t0.1\t0.0\t0.0\t0.0\t0.0\t0.0\t0.0\t0.0\t0.0\t0.0\n",
            "s=1 |\t0.0\t0.11\t0.0\t0.0\t0.0\t0.0\t0.0\t0.0\t0.0\t0.0\n",
            "s=2 |\t0.0\t0.0\t0.1\t0.0\t0.0\t0.0\t0.0\t0.0\t0.0\t0.0\n",
            "s=3 |\t0.0\t0.0\t0.0\t0.1\t0.0\t0.0\t0.0\t0.0\t0.0\t0.0\n",
            "s=4 |\t0.0\t0.0\t0.0\t0.0\t0.1\t0.0\t0.0\t0.0\t0.0\t0.0\n",
            "s=5 |\t0.0\t0.0\t0.0\t0.0\t0.0\t0.09\t0.0\t0.0\t0.0\t0.0\n",
            "s=6 |\t0.0\t0.0\t0.0\t0.0\t0.0\t0.0\t0.1\t0.0\t0.0\t0.0\n",
            "s=7 |\t0.0\t0.0\t0.0\t0.0\t0.0\t0.0\t0.0\t0.1\t0.0\t0.0\n",
            "s=8 |\t0.0\t0.0\t0.0\t0.0\t0.0\t0.0\t0.0\t0.0\t0.1\t0.0\n",
            "s=9 |\t0.0\t0.0\t0.0\t0.0\t0.0\t0.0\t0.0\t0.0\t0.0\t0.1\n",
            "\tTrace(matrix) = 1.0\n",
            "\n",
            "\n",
            " Noise Matrix (aka Noisy Channel) P(given_label|true_label) of shape (10, 10)\n",
            " p(s|y)\ty=0\ty=1\ty=2\ty=3\ty=4\ty=5\ty=6\ty=7\ty=8\ty=9\n",
            "\t---\t---\t---\t---\t---\t---\t---\t---\t---\t---\n",
            "s=0 |\t1.0\t0.0\t0.0\t0.0\t0.0\t0.0\t0.0\t0.0\t0.0\t0.0\n",
            "s=1 |\t0.0\t1.0\t0.0\t0.0\t0.0\t0.0\t0.0\t0.0\t0.0\t0.0\n",
            "s=2 |\t0.0\t0.0\t1.0\t0.0\t0.0\t0.0\t0.0\t0.0\t0.0\t0.0\n",
            "s=3 |\t0.0\t0.0\t0.0\t1.0\t0.0\t0.0\t0.0\t0.0\t0.0\t0.0\n",
            "s=4 |\t0.0\t0.0\t0.0\t0.0\t1.0\t0.0\t0.0\t0.0\t0.0\t0.0\n",
            "s=5 |\t0.0\t0.0\t0.0\t0.0\t0.0\t1.0\t0.0\t0.0\t0.0\t0.0\n",
            "s=6 |\t0.0\t0.0\t0.0\t0.0\t0.0\t0.0\t1.0\t0.0\t0.0\t0.0\n",
            "s=7 |\t0.0\t0.0\t0.0\t0.0\t0.0\t0.0\t0.0\t1.0\t0.0\t0.0\n",
            "s=8 |\t0.0\t0.0\t0.0\t0.0\t0.0\t0.0\t0.0\t0.0\t1.0\t0.0\n",
            "s=9 |\t0.0\t0.0\t0.0\t0.0\t0.0\t0.0\t0.0\t0.0\t0.0\t1.0\n",
            "\tTrace(matrix) = 9.99\n",
            "\n"
          ]
        }
      ]
    },
    {
      "cell_type": "markdown",
      "metadata": {
        "id": "OU0HhEcAPVR8"
      },
      "source": [
        "## 6. Use cleanlab to find label issues\n"
      ]
    },
    {
      "cell_type": "markdown",
      "metadata": {
        "id": "ffcedB3zPVR8"
      },
      "source": [
        "Based on the given labels and out-of-sample predicted probabilities, cleanlab can quickly help us identify label issues in our dataset. Here we request that the indices of the identified label issues be sorted by cleanlab's self-confidence score, which measures the quality of each given label via the probability assigned to it in our model's prediction."
      ]
    },
    {
      "cell_type": "code",
      "execution_count": null,
      "metadata": {
        "execution": {
          "iopub.execute_input": "2022-04-20T20:28:17.802155Z",
          "iopub.status.busy": "2022-04-20T20:28:17.801768Z",
          "iopub.status.idle": "2022-04-20T20:28:18.976854Z",
          "shell.execute_reply": "2022-04-20T20:28:18.976274Z"
        },
        "id": "o0Ld-ym-PVR9",
        "outputId": "ca6c5c39-69be-471d-bf42-7eacc6cff7bd",
        "colab": {
          "base_uri": "https://localhost:8080/"
        }
      },
      "outputs": [
        {
          "output_type": "stream",
          "name": "stdout",
          "text": [
            "Cleanlab found 98 label issues.\n",
            "Top 15 most likely label errors: \n",
            " [59915 31134  8200  8729 44456  2720 52932 61014 59701 28556  2676 53216\n",
            " 26560 42854 26376]\n"
          ]
        }
      ],
      "source": [
        "from cleanlab.filter import find_label_issues\n",
        "\n",
        "ranked_label_issues = find_label_issues(\n",
        "    y,\n",
        "    pred_probs,\n",
        "    return_indices_ranked_by=\"self_confidence\",\n",
        ")\n",
        "\n",
        "print(f\"Cleanlab found {len(ranked_label_issues)} label issues.\")\n",
        "print(f\"Top 15 most likely label errors: \\n {ranked_label_issues[:15]}\")"
      ]
    },
    {
      "cell_type": "markdown",
      "metadata": {
        "id": "YzVTHPyRPVR9"
      },
      "source": [
        "`ranked_label_issues` is a list of indices corresponding to examples that are worth inspecting more closely. To help visualize specific examples, we define a `plot_examples` function (can skip these details)."
      ]
    },
    {
      "cell_type": "markdown",
      "metadata": {
        "id": "1EhxHstVPVR9"
      },
      "source": [
        "<details><summary>Below is the code used for plotting.</summary>\n",
        "\n",
        "```\n",
        "\n",
        "# Note: This pulldown content is for docs.cleanlab.ai, if running on local Jupyter or Colab, please ignore it.\n",
        "\n",
        "import matplotlib.pyplot as plt\n",
        "\n",
        "def plot_examples(id_iter, nrows=1, ncols=1):\n",
        "    for count, id in enumerate(id_iter):\n",
        "        plt.subplot(nrows, ncols, count + 1)\n",
        "        plt.imshow(X[id].reshape(28, 28), cmap=\"gray\")\n",
        "        plt.title(f\"id: {id} \\n label: {y[id]}\")\n",
        "        plt.axis(\"off\")\n",
        "\n",
        "    plt.tight_layout(h_pad=2.0)\n",
        "\n",
        "```\n",
        "</details>"
      ]
    },
    {
      "cell_type": "code",
      "execution_count": null,
      "metadata": {
        "execution": {
          "iopub.execute_input": "2022-04-20T20:28:18.980490Z",
          "iopub.status.busy": "2022-04-20T20:28:18.979891Z",
          "iopub.status.idle": "2022-04-20T20:28:20.729042Z",
          "shell.execute_reply": "2022-04-20T20:28:20.728354Z"
        },
        "nbsphinx": "hidden",
        "id": "RLgUqXHtPVR-"
      },
      "outputs": [],
      "source": [
        "import matplotlib.pyplot as plt\n",
        "\n",
        "def plot_examples(id_iter, nrows=1, ncols=1):\n",
        "    for count, id in enumerate(id_iter):\n",
        "        plt.subplot(nrows, ncols, count + 1)\n",
        "        plt.imshow(X[id].reshape(28, 28), cmap=\"gray\")\n",
        "        plt.title(f\"id: {id} \\n label: {y[id]}\")\n",
        "        plt.axis(\"off\")\n",
        "\n",
        "    plt.tight_layout(h_pad=2.0)"
      ]
    },
    {
      "cell_type": "markdown",
      "metadata": {
        "id": "wWA-HkCUPVR-"
      },
      "source": [
        "Let's look at the top 15 examples cleanlab thinks are most likely to be incorrectly labeled. We can see a few label errors and odd edge cases. Feel free to change the values below to display more/fewer examples."
      ]
    },
    {
      "cell_type": "code",
      "execution_count": null,
      "metadata": {
        "execution": {
          "iopub.execute_input": "2022-04-20T20:28:20.732645Z",
          "iopub.status.busy": "2022-04-20T20:28:20.732283Z",
          "iopub.status.idle": "2022-04-20T20:28:21.303302Z",
          "shell.execute_reply": "2022-04-20T20:28:21.302492Z"
        },
        "id": "MFqgx66IPVR_",
        "outputId": "ff4bda3f-7d71-4ee1-f267-936b19380dcc",
        "colab": {
          "base_uri": "https://localhost:8080/",
          "height": 486
        }
      },
      "outputs": [
        {
          "output_type": "display_data",
          "data": {
            "text/plain": [
              "<Figure size 640x480 with 20 Axes>"
            ],
            "image/png": "[encoded data removed]"
          },
          "metadata": {}
        }
      ],
      "source": [
        "plot_examples(ranked_label_issues[range(20)], 4, 5)"
      ]
    },
    {
      "cell_type": "markdown",
      "metadata": {
        "id": "X3yfAVI0PVR_"
      },
      "source": [
        "Let's zoom into some specific examples from the above set:"
      ]
    },
    {
      "cell_type": "markdown",
      "metadata": {
        "id": "A8OSdlbfPVSC"
      },
      "source": [
        "Given label is **4** but looks more like a **7**:\n"
      ]
    },
    {
      "cell_type": "code",
      "execution_count": null,
      "metadata": {
        "execution": {
          "iopub.execute_input": "2022-04-20T20:28:21.306478Z",
          "iopub.status.busy": "2022-04-20T20:28:21.306148Z",
          "iopub.status.idle": "2022-04-20T20:28:21.359535Z",
          "shell.execute_reply": "2022-04-20T20:28:21.358715Z"
        },
        "id": "DSRuNMQMPVSD",
        "outputId": "730bc652-c69b-4a5d-92b0-748ae06619de",
        "colab": {
          "base_uri": "https://localhost:8080/",
          "height": 487
        }
      },
      "outputs": [
        {
          "output_type": "display_data",
          "data": {
            "text/plain": [
              "<Figure size 640x480 with 1 Axes>"
            ],
            "image/png": "[encoded data removed]"
          },
          "metadata": {}
        }
      ],
      "source": [
        "plot_examples([59915])"
      ]
    },
    {
      "cell_type": "markdown",
      "metadata": {
        "id": "YObssHJFPVSD"
      },
      "source": [
        "Given label is **4** but also looks like **9**:\n"
      ]
    },
    {
      "cell_type": "code",
      "execution_count": null,
      "metadata": {
        "execution": {
          "iopub.execute_input": "2022-04-20T20:28:21.362626Z",
          "iopub.status.busy": "2022-04-20T20:28:21.362303Z",
          "iopub.status.idle": "2022-04-20T20:28:21.414566Z",
          "shell.execute_reply": "2022-04-20T20:28:21.414002Z"
        },
        "id": "KGPHvxd9PVSE",
        "outputId": "ed098775-fa01-4535-d573-330fe23ab723",
        "colab": {
          "base_uri": "https://localhost:8080/",
          "height": 487
        }
      },
      "outputs": [
        {
          "output_type": "display_data",
          "data": {
            "text/plain": [
              "<Figure size 640x480 with 1 Axes>"
            ],
            "image/png": "[encoded data removed]"
          },
          "metadata": {}
        }
      ],
      "source": [
        "plot_examples([24798])"
      ]
    },
    {
      "cell_type": "markdown",
      "metadata": {
        "id": "IM4TZNbPPVSE"
      },
      "source": [
        "A very odd looking **5**:\n"
      ]
    },
    {
      "cell_type": "code",
      "execution_count": null,
      "metadata": {
        "execution": {
          "iopub.execute_input": "2022-04-20T20:28:21.417509Z",
          "iopub.status.busy": "2022-04-20T20:28:21.417321Z",
          "iopub.status.idle": "2022-04-20T20:28:21.471354Z",
          "shell.execute_reply": "2022-04-20T20:28:21.470773Z"
        },
        "id": "gef9ihAGPVSE",
        "outputId": "d396a9c1-b72c-4936-a3dc-a293367b9f15",
        "colab": {
          "base_uri": "https://localhost:8080/",
          "height": 487
        }
      },
      "outputs": [
        {
          "output_type": "display_data",
          "data": {
            "text/plain": [
              "<Figure size 640x480 with 1 Axes>"
            ],
            "image/png": "[encoded data removed]"
          },
          "metadata": {}
        }
      ],
      "source": [
        "plot_examples([59701])"
      ]
    },
    {
      "cell_type": "markdown",
      "metadata": {
        "id": "PS1aajIMPVSF"
      },
      "source": [
        "Given label is **3** but could be a **7**:"
      ]
    },
    {
      "cell_type": "code",
      "execution_count": null,
      "metadata": {
        "execution": {
          "iopub.execute_input": "2022-04-20T20:28:21.474284Z",
          "iopub.status.busy": "2022-04-20T20:28:21.474096Z",
          "iopub.status.idle": "2022-04-20T20:28:21.525422Z",
          "shell.execute_reply": "2022-04-20T20:28:21.524855Z"
        },
        "id": "4KdjNaOXPVSF",
        "outputId": "26a30193-2a89-4c72-9c9b-7ec1691c233a",
        "colab": {
          "base_uri": "https://localhost:8080/",
          "height": 487
        }
      },
      "outputs": [
        {
          "output_type": "display_data",
          "data": {
            "text/plain": [
              "<Figure size 640x480 with 1 Axes>"
            ],
            "image/png": "[encoded data removed]"
          },
          "metadata": {}
        }
      ],
      "source": [
        "plot_examples([50340])"
      ]
    },
    {
      "cell_type": "code",
      "source": [
        "import numpy as np\n",
        "\n",
        "# Assuming original_dataset is your original MNIST dataset array\n",
        "# and mislabel_indices is the list of indices with mislabeled instances\n",
        "original_dataset = X  # Your original dataset (70000 x num_features array)\n",
        "mislabel_indices = [ranked_label_issues]  # List of indices with mislabeled instances\n",
        "\n",
        "# Create a new dataset excluding mislabeled instances\n",
        "clean_dataset = np.delete(original_dataset, mislabel_indices, axis=0)\n",
        "\n",
        "# clean_dataset now contains the dataset without the mislabeled instances\n"
      ],
      "metadata": {
        "id": "kpvXNoxSb2Hb"
      },
      "execution_count": null,
      "outputs": []
    },
    {
      "cell_type": "code",
      "source": [
        "#input_path = ''\n",
        "#training_images_filepath = join(input_path, '/content/train-images.idx3-ubyte')\n",
        "#training_labels_filepath = join(input_path, '/content/train-labels.idx1-ubyte')\n",
        "#test_images_filepath = join(input_path, '/content/t10k-images.idx3-ubyte')\n",
        "#test_labels_filepath = join(input_path, '/content/t10k-labels.idx1-ubyte')"
      ],
      "metadata": {
        "id": "fwILzzjUGdy4"
      },
      "execution_count": null,
      "outputs": []
    }
  ],
  "metadata": {
    "interpreter": {
      "hash": "ced20e3e49bb4fa4ce8ad38f8f2535b7fc4c39b2b89554502b5dbdad1ad67eda"
    },
    "kernelspec": {
      "display_name": "Python 3 (ipykernel)",
      "language": "python",
      "name": "python3"
    },
    "language_info": {
      "codemirror_mode": {
        "name": "ipython",
        "version": 3
      },
      "file_extension": ".py",
      "mimetype": "text/x-python",
      "name": "python",
      "nbconvert_exporter": "python",
      "pygments_lexer": "ipython3",
      "version": "3.8.12"
    },
    "colab": {
      "provenance": []
    }
  },
  "nbformat": 4,
  "nbformat_minor": 0
}