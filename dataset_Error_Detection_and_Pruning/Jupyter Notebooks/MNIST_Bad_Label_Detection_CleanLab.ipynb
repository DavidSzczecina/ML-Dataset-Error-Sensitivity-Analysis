{
  "cells": [
    {
      "cell_type": "markdown",
      "metadata": {
        "id": "L-wSPjldPVRg"
      },
      "source": [
        "# Image Classification with PyTorch and Cleanlab\n"
      ]
    },
    {
      "cell_type": "markdown",
      "metadata": {
        "id": "wX891hpkPVRo"
      },
      "source": [
        "Thi notebook demonstrates how to find potential label errors in image classification data. Here we use the MNIST dataset containing 70,000 images of handwritten digits from 0 to 9.\n",
        "\n",
        "**Overview of what we'll do in this tutorial:**\n",
        "\n",
        "- Build a simple [PyTorch](https://pytorch.org/) neural net and wrap it with [skorch](https://skorch.readthedocs.io/) to make it scikit-learn compatible.\n",
        "\n",
        "- Use this model to compute out-of-sample predicted probabilities, `pred_probs`, via cross-validation.\n",
        "\n",
        "- Compute a list of potential label errors with cleanlab's `find_label_issues` method.\n"
      ]
    },
    {
      "cell_type": "markdown",
      "metadata": {
        "id": "8cXaeksePVRq"
      },
      "source": [
        "## 1. Install the required dependencies\n"
      ]
    },
    {
      "cell_type": "markdown",
      "metadata": {
        "id": "S0Zrszu8PVRr"
      },
      "source": [
        "You can use `pip` to install all packages required for this tutorial as follows:\n"
      ]
    },
    {
      "cell_type": "code",
      "execution_count": null,
      "metadata": {
        "id": "N_uuWJ02PaXf"
      },
      "outputs": [],
      "source": [
        "!pip install matplotlib torch torchvision skorch\n",
        "!pip install cleanlab"
      ]
    },
    {
      "cell_type": "markdown",
      "metadata": {
        "id": "RXcN0m93k8T1"
      },
      "source": [
        "Check to see if required dependencies are installed"
      ]
    },
    {
      "cell_type": "code",
      "execution_count": null,
      "metadata": {
        "id": "5W7wi159PVRs"
      },
      "outputs": [],
      "source": [
        "# Package installation.\n",
        "# If running on Colab, may want to use GPU (select: Runtime > Change runtime type > Hardware accelerator > GPU)\n",
        "\n",
        "dependencies = [\"cleanlab\", \"matplotlib\", \"torch\", \"torchvision\", \"skorch\"]\n",
        "\n",
        "if \"google.colab\" in str(get_ipython()):  # Check if it's running in Google Colab\n",
        "    %pip install cleanlab==v2.0.0\n",
        "    cmd = ' '.join([dep for dep in dependencies if dep != \"cleanlab\"])\n",
        "    %pip install $cmd\n",
        "else:\n",
        "    missing_dependencies = []\n",
        "    for dependency in dependencies:\n",
        "        try:\n",
        "            __import__(dependency)\n",
        "        except ImportError:\n",
        "            missing_dependencies.append(dependency)\n",
        "\n",
        "    if len(missing_dependencies) > 0:\n",
        "        print(\"Missing required dependencies:\")\n",
        "        print(*missing_dependencies, sep=\", \")\n",
        "        print(\"\\nPlease install them before running the rest of this notebook.\")"
      ]
    },
    {
      "cell_type": "markdown",
      "metadata": {
        "id": "-WhzdHEIPVRv"
      },
      "source": [
        "We set a seed for reproducibility."
      ]
    },
    {
      "cell_type": "code",
      "execution_count": null,
      "metadata": {
        "id": "B1ulmmfqPVRw"
      },
      "outputs": [],
      "source": [
        "import numpy as np\n",
        "import torch\n",
        "import warnings\n",
        "\n",
        "SEED = 321 #any constant value\n",
        "np.random.seed(SEED)  #using the same seed for numpy and torch\n",
        "torch.manual_seed(SEED)\n",
        "torch.backends.cudnn.deterministic = True\n",
        "torch.backends.cudnn.benchmark = False\n",
        "torch.cuda.manual_seed_all(SEED)\n",
        "warnings.filterwarnings(\"ignore\", \"Lazy modules are a new feature.*\") #ignore warning related to lazy modules"
      ]
    },
    {
      "cell_type": "markdown",
      "metadata": {
        "id": "t2-LuPowPVRy"
      },
      "source": [
        "## 2. Fetch and scale the MNIST dataset\n"
      ]
    },
    {
      "cell_type": "code",
      "execution_count": null,
      "metadata": {
        "colab": {
          "base_uri": "https://localhost:8080/"
        },
        "id": "O0lhjKxVPVRz",
        "outputId": "1eed34b7-5faa-4ef4-c171-9e6b9bfe9e04"
      },
      "outputs": [
        {
          "output_type": "stream",
          "name": "stderr",
          "text": [
            "/usr/local/lib/python3.10/dist-packages/sklearn/datasets/_openml.py:968: FutureWarning: The default value of `parser` will change from `'liac-arff'` to `'auto'` in 1.4. You can set `parser='auto'` to silence this warning. Therefore, an `ImportError` will be raised from 1.4 if the dataset is dense and pandas is not installed. Note that the pandas parser may return different data types. See the Notes Section in fetch_openml's API doc for details.\n",
            "  warn(\n"
          ]
        }
      ],
      "source": [
        "from sklearn.datasets import fetch_openml\n",
        "\n",
        "mnist = fetch_openml(\"mnist_784\")  # Fetch the MNIST dataset\n",
        "\n",
        "X = mnist.data.astype(\"float32\").to_numpy() # 2D array (images are flattened into 1D)\n",
        "X /= 255.0  # Scale the features to the [0, 1] range\n",
        "\n",
        "X = X.reshape(len(X), 1, 28, 28)  # reshape into [N, C, H, W] for PyTorch\n",
        "\n",
        "\n",
        "y = mnist.target.astype(\"int64\").to_numpy()  # 1D array of labels"
      ]
    },
    {
      "cell_type": "markdown",
      "metadata": {
        "id": "IVLX3_3PPVR0"
      },
      "source": [
        "<div class=\"alert alert-info\">If using different data:\n",
        "\n",
        "Assign your data's features to variable `X` and its labels to variable `y` instead.\n",
        "\n",
        "Your classes (and entries of `y`) should be represented as integer indices 0, 1, ..., num_classes - 1.\n",
        "\n",
        "</div>\n"
      ]
    },
    {
      "cell_type": "markdown",
      "metadata": {
        "id": "j6zb0XizPVR1"
      },
      "source": [
        "## 3. Define a classification model\n"
      ]
    },
    {
      "cell_type": "markdown",
      "metadata": {
        "id": "Zc8kOmxhPVR2"
      },
      "source": [
        "Here, we define a simple neural network with PyTorch.\n",
        "2 fully connected layers"
      ]
    },
    {
      "cell_type": "code",
      "execution_count": null,
      "metadata": {
        "id": "334dW5s7PVR2"
      },
      "outputs": [],
      "source": [
        "from torch import nn\n",
        "\n",
        "class ClassifierModule(nn.Module):\n",
        "    def __init__(self):\n",
        "        super().__init__()\n",
        "\n",
        "        self.cnn = nn.Sequential(\n",
        "            nn.Conv2d(1, 6, 3),\n",
        "            nn.ReLU(),\n",
        "            nn.BatchNorm2d(6),\n",
        "            nn.MaxPool2d(kernel_size=2, stride=2),\n",
        "            nn.Conv2d(6, 16, 3),\n",
        "            nn.ReLU(),\n",
        "            nn.BatchNorm2d(16),\n",
        "            nn.MaxPool2d(kernel_size=2, stride=2),\n",
        "        )\n",
        "        self.out = nn.Sequential(\n",
        "            nn.Flatten(),\n",
        "            nn.LazyLinear(128),\n",
        "            nn.ReLU(),\n",
        "            nn.Linear(128, 10),\n",
        "            nn.Softmax(dim=-1),\n",
        "        )\n",
        "\n",
        "    def forward(self, X):\n",
        "        X = self.cnn(X)\n",
        "        X = self.out(X)\n",
        "        return X"
      ]
    },
    {
      "cell_type": "markdown",
      "metadata": {
        "id": "KuYU7Iv5PVR3"
      },
      "source": [
        "## 4. Ensure your classifier is scikit-learn compatible\n"
      ]
    },
    {
      "cell_type": "markdown",
      "metadata": {
        "id": "2nFkv_r7PVR3"
      },
      "source": [
        "As some cleanlab features require scikit-learn compatibility, we adapt the above PyTorch neural net accordingly. [skorch](https://skorch.readthedocs.io) is a convenient package that helps with this. Alternatively, you can also easily wrap an arbitrary model to be scikit-learn compatible as demonstrated [here](https://github.com/cleanlab/cleanlab#use-cleanlab-with-any-model-tensorflow-pytorch-sklearn-xgboost-etc)."
      ]
    },
    {
      "cell_type": "code",
      "execution_count": null,
      "metadata": {
        "id": "vys8nuNgPVR4"
      },
      "outputs": [],
      "source": [
        "from skorch import NeuralNetClassifier\n",
        "\n",
        "model_skorch = NeuralNetClassifier(ClassifierModule)"
      ]
    },
    {
      "cell_type": "markdown",
      "metadata": {
        "id": "_YJ_TeqFPVR4"
      },
      "source": [
        "## 5. Compute out-of-sample predicted probabilities\n"
      ]
    },
    {
      "cell_type": "markdown",
      "metadata": {
        "id": "0U2pt1VlPVR5"
      },
      "source": [
        "If we'd like cleanlab to identify potential label errors in the whole dataset and not just the training set, we can consider using the entire dataset when computing the out-of-sample predicted probabilities, `pred_probs`, via cross-validation.\n"
      ]
    },
    {
      "cell_type": "code",
      "execution_count": null,
      "metadata": {
        "colab": {
          "base_uri": "https://localhost:8080/"
        },
        "id": "3oqKSlEYPVR5",
        "outputId": "50c48428-171c-4269-c5db-56f02003c8cf"
      },
      "outputs": [
        {
          "output_type": "stream",
          "name": "stdout",
          "text": [
            "  epoch    train_loss    valid_acc    valid_loss     dur\n",
            "-------  ------------  -----------  ------------  ------\n",
            "      1        \u001b[36m0.7882\u001b[0m       \u001b[32m0.9116\u001b[0m        \u001b[35m0.3209\u001b[0m  6.7005\n",
            "      2        \u001b[36m0.2220\u001b[0m       \u001b[32m0.9371\u001b[0m        \u001b[35m0.2101\u001b[0m  7.1840\n",
            "      3        \u001b[36m0.1577\u001b[0m       \u001b[32m0.9495\u001b[0m        \u001b[35m0.1663\u001b[0m  6.4759\n",
            "      4        \u001b[36m0.1277\u001b[0m       \u001b[32m0.9581\u001b[0m        \u001b[35m0.1420\u001b[0m  7.2459\n",
            "      5        \u001b[36m0.1093\u001b[0m       \u001b[32m0.9610\u001b[0m        \u001b[35m0.1265\u001b[0m  6.8454\n",
            "      6        \u001b[36m0.0966\u001b[0m       \u001b[32m0.9636\u001b[0m        \u001b[35m0.1157\u001b[0m  7.0835\n",
            "      7        \u001b[36m0.0872\u001b[0m       \u001b[32m0.9661\u001b[0m        \u001b[35m0.1075\u001b[0m  7.3456\n",
            "      8        \u001b[36m0.0798\u001b[0m       \u001b[32m0.9691\u001b[0m        \u001b[35m0.1010\u001b[0m  6.9067\n",
            "      9        \u001b[36m0.0737\u001b[0m       \u001b[32m0.9716\u001b[0m        \u001b[35m0.0957\u001b[0m  7.6529\n",
            "     10        \u001b[36m0.0686\u001b[0m       0.9716        \u001b[35m0.0915\u001b[0m  8.1404\n",
            "  epoch    train_loss    valid_acc    valid_loss     dur\n",
            "-------  ------------  -----------  ------------  ------\n",
            "      1        \u001b[36m0.7167\u001b[0m       \u001b[32m0.9245\u001b[0m        \u001b[35m0.2801\u001b[0m  7.5872\n",
            "      2        \u001b[36m0.2061\u001b[0m       \u001b[32m0.9480\u001b[0m        \u001b[35m0.1820\u001b[0m  7.9981\n",
            "      3        \u001b[36m0.1450\u001b[0m       \u001b[32m0.9566\u001b[0m        \u001b[35m0.1470\u001b[0m  7.8260\n",
            "      4        \u001b[36m0.1174\u001b[0m       \u001b[32m0.9606\u001b[0m        \u001b[35m0.1289\u001b[0m  9.0144\n",
            "      5        \u001b[36m0.1009\u001b[0m       \u001b[32m0.9635\u001b[0m        \u001b[35m0.1165\u001b[0m  7.8943\n",
            "      6        \u001b[36m0.0895\u001b[0m       \u001b[32m0.9666\u001b[0m        \u001b[35m0.1070\u001b[0m  7.8837\n",
            "      7        \u001b[36m0.0807\u001b[0m       \u001b[32m0.9676\u001b[0m        \u001b[35m0.1013\u001b[0m  7.1368\n",
            "      8        \u001b[36m0.0738\u001b[0m       \u001b[32m0.9697\u001b[0m        \u001b[35m0.0968\u001b[0m  7.8661\n",
            "      9        \u001b[36m0.0681\u001b[0m       \u001b[32m0.9702\u001b[0m        \u001b[35m0.0938\u001b[0m  7.8815\n",
            "     10        \u001b[36m0.0633\u001b[0m       0.9701        \u001b[35m0.0920\u001b[0m  6.9979\n",
            "  epoch    train_loss    valid_acc    valid_loss     dur\n",
            "-------  ------------  -----------  ------------  ------\n",
            "      1        \u001b[36m0.7734\u001b[0m       \u001b[32m0.9360\u001b[0m        \u001b[35m0.2787\u001b[0m  7.7921\n",
            "      2        \u001b[36m0.1910\u001b[0m       \u001b[32m0.9571\u001b[0m        \u001b[35m0.1681\u001b[0m  8.0117\n",
            "      3        \u001b[36m0.1346\u001b[0m       \u001b[32m0.9635\u001b[0m        \u001b[35m0.1338\u001b[0m  7.7995\n",
            "      4        \u001b[36m0.1096\u001b[0m       \u001b[32m0.9675\u001b[0m        \u001b[35m0.1162\u001b[0m  7.5023\n",
            "      5        \u001b[36m0.0945\u001b[0m       \u001b[32m0.9700\u001b[0m        \u001b[35m0.1052\u001b[0m  9.5147\n",
            "      6        \u001b[36m0.0838\u001b[0m       \u001b[32m0.9719\u001b[0m        \u001b[35m0.0974\u001b[0m  7.7238\n",
            "      7        \u001b[36m0.0757\u001b[0m       \u001b[32m0.9729\u001b[0m        \u001b[35m0.0913\u001b[0m  6.9624\n",
            "      8        \u001b[36m0.0694\u001b[0m       \u001b[32m0.9739\u001b[0m        \u001b[35m0.0866\u001b[0m  7.7321\n",
            "      9        \u001b[36m0.0642\u001b[0m       \u001b[32m0.9747\u001b[0m        \u001b[35m0.0827\u001b[0m  7.9409\n",
            "     10        \u001b[36m0.0599\u001b[0m       \u001b[32m0.9762\u001b[0m        \u001b[35m0.0795\u001b[0m  7.0701\n"
          ]
        }
      ],
      "source": [
        "from sklearn.model_selection import cross_val_predict\n",
        "\n",
        "num_crossval_folds = 3  # for efficiency; values like 5 or 10 will generally work better\n",
        "pred_probs = cross_val_predict(\n",
        "    model_skorch,\n",
        "    X,\n",
        "    y,\n",
        "    cv=num_crossval_folds,\n",
        "    method=\"predict_proba\",\n",
        ")"
      ]
    },
    {
      "cell_type": "markdown",
      "metadata": {
        "id": "tnMEeF0PPVR7"
      },
      "source": [
        "An additional benefit of cross-validation is that it facilitates more reliable evaluation of our model than a single training/validation split."
      ]
    },
    {
      "cell_type": "code",
      "execution_count": null,
      "metadata": {
        "colab": {
          "base_uri": "https://localhost:8080/"
        },
        "id": "THkKRRgaPVR7",
        "outputId": "32666a53-5b32-447e-b1d3-ad49d74de3d3"
      },
      "outputs": [
        {
          "output_type": "stream",
          "name": "stdout",
          "text": [
            "Cross-validated estimate of accuracy on held-out data: 0.9748428571428571\n"
          ]
        }
      ],
      "source": [
        "from sklearn.metrics import accuracy_score\n",
        "\n",
        "predicted_labels = pred_probs.argmax(axis=1)\n",
        "acc = accuracy_score(y, predicted_labels)\n",
        "print(f\"Cross-validated estimate of accuracy on held-out data: {acc}\")"
      ]
    },
    {
      "cell_type": "markdown",
      "metadata": {
        "id": "-oI_N1HDC1ML"
      },
      "source": [
        "## 6. Use cleanlab to find label issues\n"
      ]
    },
    {
      "cell_type": "markdown",
      "metadata": {
        "id": "WL0TUni3C1Md"
      },
      "source": [
        "Based on the given labels and out-of-sample predicted probabilities, cleanlab can quickly help us identify label issues in our dataset. Here we request that the indices of the identified label issues be sorted by cleanlab's self-confidence score, which measures the quality of each given label via the probability assigned to it in our model's prediction."
      ]
    },
    {
      "cell_type": "code",
      "execution_count": null,
      "metadata": {
        "colab": {
          "base_uri": "https://localhost:8080/"
        },
        "outputId": "131e7446-7a82-45cc-c04d-e15f6eb4b6d9",
        "id": "qn9-h7txC1Me"
      },
      "outputs": [
        {
          "output_type": "stream",
          "name": "stdout",
          "text": [
            "Cleanlab found 148 label issues.\n",
            "Top 15 most likely label errors: \n",
            " [59915 24798  8729 31134 19124 37427 27522 26471 53638  6848  2720 23824\n",
            "  2676 20672  8200]\n"
          ]
        }
      ],
      "source": [
        "from cleanlab.filter import find_label_issues\n",
        "\n",
        "ranked_label_issues = find_label_issues(\n",
        "    y,\n",
        "    pred_probs,\n",
        "    return_indices_ranked_by=\"self_confidence\",\n",
        "    frac_noise=1\n",
        ")\n",
        "\n",
        "print(f\"Cleanlab found {len(ranked_label_issues)} label issues.\")\n",
        "print(f\"Top 15 most likely label errors: \\n {ranked_label_issues[:15]}\")"
      ]
    },
    {
      "cell_type": "markdown",
      "metadata": {
        "id": "J7470QtxC1Mf"
      },
      "source": [
        "`ranked_label_issues` is a list of indices corresponding to examples that are worth inspecting more closely. To help visualize specific examples, we define a `plot_examples` function (can skip these details)."
      ]
    },
    {
      "cell_type": "code",
      "execution_count": null,
      "metadata": {
        "id": "kcrcWmmVC1Mf"
      },
      "outputs": [],
      "source": [
        "import matplotlib.pyplot as plt\n",
        "\n",
        "def plot_examples(id_iter, nrows=1, ncols=1):\n",
        "    for count, id in enumerate(id_iter):\n",
        "        plt.subplot(nrows, ncols, count + 1)\n",
        "        plt.imshow(X[id].reshape(28, 28), cmap=\"gray\")\n",
        "        plt.title(f\"id: {id} \\n label: {y[id]}\")\n",
        "        plt.axis(\"off\")\n",
        "\n",
        "    plt.tight_layout(h_pad=2.0)"
      ]
    },
    {
      "cell_type": "markdown",
      "metadata": {
        "id": "YODTMbr2C1Mg"
      },
      "source": [
        "Let's look at the top 20 examples cleanlab thinks are most likely to be incorrectly labeled. We can see a few label errors and odd edge cases. Feel free to change the values below to display more/fewer examples."
      ]
    },
    {
      "cell_type": "code",
      "execution_count": null,
      "metadata": {
        "colab": {
          "base_uri": "https://localhost:8080/",
          "height": 486
        },
        "outputId": "3c37ff76-1a48-4405-da94-9fcda5dd865a",
        "id": "UlACnXu9C1Mg"
      },
      "outputs": [
        {
          "output_type": "display_data",
          "data": {
            "text/plain": [
              "<Figure size 640x480 with 20 Axes>"
            ],
            "image/png": "[encoded data removed]"
          },
          "metadata": {}
        }
      ],
      "source": [
        "plot_examples(ranked_label_issues[range(20)], 4, 5)"
      ]
    },
    {
      "cell_type": "code",
      "source": [
        "BeforeRemoval = ranked_label_issues[range(3)]\n",
        "plot_examples(BeforeRemoval[range(3)], 1, 3)"
      ],
      "metadata": {
        "colab": {
          "base_uri": "https://localhost:8080/",
          "height": 273
        },
        "id": "DxhZ91NpV-qe",
        "outputId": "2f6613ab-6341-4272-aa3f-0b275c663a58"
      },
      "execution_count": null,
      "outputs": [
        {
          "output_type": "display_data",
          "data": {
            "text/plain": [
              "<Figure size 640x480 with 3 Axes>"
            ],
            "image/png": "[encoded data removed]"
          },
          "metadata": {}
        }
      ]
    },
    {
      "cell_type": "code",
      "execution_count": null,
      "metadata": {
        "id": "XidUfZKaC1Mh"
      },
      "outputs": [],
      "source": [
        "# Assuming original_dataset is your original MNIST dataset array\n",
        "# and mislabel_indices is the list of indices with mislabeled instances\n",
        "  #original_dataset = X  # Your original dataset (70000 x num_features array)\n",
        "  #mislabel_indices = [ranked_label_issues]  # List of indices with mislabeled instances\n",
        "\n",
        "# Create a new dataset excluding mislabeled instances\n",
        "  #clean_dataset = np.delete(original_dataset, mislabel_indices, axis=0)\n",
        "\n",
        "# clean_dataset now contains the dataset without the mislabeled instances\n"
      ]
    },
    {
      "cell_type": "markdown",
      "metadata": {
        "id": "OU0HhEcAPVR8"
      },
      "source": [
        "## 7. Getting Data from the process\n"
      ]
    },
    {
      "cell_type": "markdown",
      "metadata": {
        "id": "ffcedB3zPVR8"
      },
      "source": []
    },
    {
      "cell_type": "code",
      "source": [
        "cleanlab.count.estimate_joint(y, pred_probs)"
      ],
      "metadata": {
        "id": "Ml6_5KqTDW8h",
        "colab": {
          "base_uri": "https://localhost:8080/",
          "height": 146
        },
        "outputId": "dd985c31-e866-49c6-a2c7-6cda7bc5491e"
      },
      "execution_count": null,
      "outputs": [
        {
          "output_type": "error",
          "ename": "NameError",
          "evalue": "name 'cleanlab' is not defined",
          "traceback": [
            "\u001b[0;31m---------------------------------------------------------------------------\u001b[0m",
            "\u001b[0;31mNameError\u001b[0m                                 Traceback (most recent call last)",
            "\u001b[0;32m<ipython-input-14-ad4869cb3578>\u001b[0m in \u001b[0;36m<cell line: 1>\u001b[0;34m()\u001b[0m\n\u001b[0;32m----> 1\u001b[0;31m \u001b[0mcleanlab\u001b[0m\u001b[0;34m.\u001b[0m\u001b[0mcount\u001b[0m\u001b[0;34m.\u001b[0m\u001b[0mestimate_joint\u001b[0m\u001b[0;34m(\u001b[0m\u001b[0my\u001b[0m\u001b[0;34m,\u001b[0m \u001b[0mpred_probs\u001b[0m\u001b[0;34m)\u001b[0m\u001b[0;34m\u001b[0m\u001b[0;34m\u001b[0m\u001b[0m\n\u001b[0m",
            "\u001b[0;31mNameError\u001b[0m: name 'cleanlab' is not defined"
          ]
        }
      ]
    },
    {
      "cell_type": "code",
      "source": [
        "cleanlab.count.compute_confident_joint(y, pred_probs)"
      ],
      "metadata": {
        "id": "mNN86URcDbs2"
      },
      "execution_count": null,
      "outputs": []
    },
    {
      "cell_type": "code",
      "source": [
        "testingThresholds = [0.8, 0.8, 0.8, 0.8, 0.8, 0.8, 0.8, 0.8, 0.8, 0.8]\n",
        "\n",
        "cleanlab.count.compute_confident_joint(y, pred_probs, thresholds=testingThresholds)"
      ],
      "metadata": {
        "id": "yFMedA-gDblE"
      },
      "execution_count": null,
      "outputs": []
    },
    {
      "cell_type": "code",
      "source": [
        "\n",
        "\n",
        "(\n",
        "    py, noise_matrix, inverse_noise_matrix, confident_joint\n",
        ") = cleanlab.count.estimate_py_and_noise_matrices_from_probabilities(y, pred_probs)\n",
        "\n",
        "\n",
        "# Get the joint distribution of noisy and true labels from the confident joint\n",
        "# This is the most powerful statistic in machine learning with noisy labels.\n",
        "joint = cleanlab.count.estimate_joint(\n",
        "    y, pred_probs, confident_joint=confident_joint\n",
        ")\n",
        "\n",
        "# Pretty print the joint distribution and noise matrix\n",
        "cleanlab.internal.util.print_joint_matrix(joint)\n",
        "cleanlab.internal.util.print_noise_matrix(noise_matrix)"
      ],
      "metadata": {
        "id": "-8Ex7Fw4DghQ"
      },
      "execution_count": null,
      "outputs": []
    },
    {
      "cell_type": "markdown",
      "source": [
        "The Cell bellow is used for testing with a different model to get the predicted probabilities"
      ],
      "metadata": {
        "id": "HLfO3gL6ECI5"
      }
    },
    {
      "cell_type": "code",
      "source": [
        "#provide X but only the first 2 dimensions (70000,1)\n",
        "\n",
        "X0 = np.reshape(X, (70000, 28*28))  #reshape the dataset\n",
        "X1 = X0[:70000, :]\n",
        "y1 = y[:70000]  #reshape the labels to match the same format\n",
        "\n",
        "\n",
        "import cleanlab\n",
        "from sklearn.linear_model import LogisticRegression\n",
        "\n",
        "linReg=LogisticRegression(max_iter=1000)#doesn't converge with standard max iteration, need to set high eg:1000\n",
        "\n",
        "pred_probs2 = cleanlab.count.estimate_cv_predicted_probabilities(\n",
        "    X1, y1, clf=linReg, seed=SEED\n",
        ")\n",
        "\n",
        "print(f\"pred_probs is a {pred_probs2.shape} matrix of predicted probabilites\")"
      ],
      "metadata": {
        "id": "c_rT_G00D7On"
      },
      "execution_count": null,
      "outputs": []
    }
  ],
  "metadata": {
    "colab": {
      "provenance": []
    },
    "interpreter": {
      "hash": "ced20e3e49bb4fa4ce8ad38f8f2535b7fc4c39b2b89554502b5dbdad1ad67eda"
    },
    "kernelspec": {
      "display_name": "Python 3 (ipykernel)",
      "language": "python",
      "name": "python3"
    },
    "language_info": {
      "codemirror_mode": {
        "name": "ipython",
        "version": 3
      },
      "file_extension": ".py",
      "mimetype": "text/x-python",
      "name": "python",
      "nbconvert_exporter": "python",
      "pygments_lexer": "ipython3",
      "version": "3.8.12"
    }
  },
  "nbformat": 4,
  "nbformat_minor": 0
}